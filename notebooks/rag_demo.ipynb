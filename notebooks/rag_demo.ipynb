{
 "cells": [
  {
   "cell_type": "code",
   "execution_count": 1,
   "metadata": {},
   "outputs": [
    {
     "data": {
      "text/plain": [
       "True"
      ]
     },
     "execution_count": 1,
     "metadata": {},
     "output_type": "execute_result"
    }
   ],
   "source": [
    "%load_ext autoreload\n",
    "%autoreload 2\n",
    "\n",
    "import os\n",
    "import sys\n",
    "from dotenv import load_dotenv\n",
    "\n",
    "# Do this to enable importing modules\n",
    "src_path = os.path.join(os.path.abspath(\"\"), \"..\")\n",
    "sys.path.insert(0, src_path)\n",
    "\n",
    "env_path = os.path.join(src_path, \"feature_pipeline/.env\")\n",
    "\n",
    "load_dotenv(env_path)  # take environment variables from feature pipeline subfolder .env."
   ]
  },
  {
   "cell_type": "code",
   "execution_count": 10,
   "metadata": {},
   "outputs": [],
   "source": [
    "from feature_pipeline.llm_components.prompt_templates import QueryExpansionTemplate"
   ]
  },
  {
   "cell_type": "code",
   "execution_count": 10,
   "metadata": {},
   "outputs": [],
   "source": [
    "from langchain_community.utils.openai_functions import (\n",
    "    convert_pydantic_to_openai_function,\n",
    ")\n",
    "from langchain_core.utils.function_calling import convert_to_openai_function\n",
    "from langchain_core.prompts import PromptTemplate, ChatPromptTemplate\n",
    "from langchain_core.pydantic_v1 import BaseModel, Field, validator\n",
    "from langchain_openai import ChatOpenAI"
   ]
  },
  {
   "cell_type": "markdown",
   "metadata": {},
   "source": [
    "## Function calling"
   ]
  },
  {
   "cell_type": "code",
   "execution_count": 18,
   "metadata": {},
   "outputs": [
    {
     "data": {
      "text/plain": [
       "[{'name': 'QueryMetadata',\n",
       "  'description': 'Information to extract from the user query. \\nDates should be transformed to yyyy-mm-dd and be relative to the given current date',\n",
       "  'parameters': {'type': 'object',\n",
       "   'properties': {'currency': {'description': 'The cryptocurrency mentioned in the query.',\n",
       "     'type': 'string'},\n",
       "    'date': {'description': 'date from the text in the format yyyy-mm-dd',\n",
       "     'type': 'string'}},\n",
       "   'required': ['currency', 'date']}}]"
      ]
     },
     "execution_count": 18,
     "metadata": {},
     "output_type": "execute_result"
    }
   ],
   "source": [
    "class QueryMetadata(BaseModel):\n",
    "    \"\"\"Information to extract from the user query. \n",
    "    Dates should be transformed to yyyy-mm-dd and be relative to the given current date\"\"\"\n",
    "\n",
    "    currency: str = Field(description=\"The cryptocurrency mentioned in the query.\")\n",
    "    date: str = Field(description=\"date from the text in the format yyyy-mm-dd\")\n",
    "\n",
    "\n",
    "openai_functions = [convert_to_openai_function(QueryMetadata)]\n",
    "openai_functions"
   ]
  },
  {
   "cell_type": "code",
   "execution_count": null,
   "metadata": {},
   "outputs": [],
   "source": [
    "from langchain.globals import set_debug\n",
    "set_debug(True)\n",
    "from langchain.output_parsers.openai_functions import JsonOutputFunctionsParser\n",
    "from datetime import datetime\n",
    "current_date = datetime.now().strftime(format=\"%Y-%m-%d\")\n",
    "\n",
    "template = ChatPromptTemplate.from_messages([\n",
    "    (\"system\", \"Today´s date is {current_date}.\"),\n",
    "    (\"human\", \"{user_query}\"),\n",
    "])\n",
    "\n",
    "model = ChatOpenAI(temperature=0)\n",
    "parser = JsonOutputFunctionsParser()\n",
    "chain = template | model.bind(functions=openai_functions) | parser\n",
    "\n",
    "query = \"What is the price of btc today?\"\n",
    "chain.invoke({\"current_date\":current_date,  \"user_query\": query})"
   ]
  },
  {
   "cell_type": "code",
   "execution_count": 80,
   "metadata": {},
   "outputs": [],
   "source": [
    "# Same thing with functions\n",
    "\n",
    "from openai import OpenAI\n",
    "\n",
    "client = OpenAI(\n",
    "  api_key=os.environ.get(\"OPENAI_API_KEY\")\n",
    ")\n",
    "\n",
    "# Test the prompts with a small sample\n",
    "messages = [\n",
    "    {\n",
    "        \"role\": \"assistant\",\n",
    "        \"content\": f\"Today´s date is {current_date}\"\n",
    "    },\n",
    "    {\n",
    "        \"role\": \"user\",\n",
    "        \"content\": \"What date was 5 days ago?\"\n",
    "    }\n",
    "]\n",
    "\n",
    "response = client.chat.completions.create(\n",
    "    model=\"gpt-3.5-turbo\",\n",
    "    messages=messages,\n",
    "    functions=openai_functions\n",
    ")\n",
    "response.choices[0].message"
   ]
  },
  {
   "cell_type": "markdown",
   "metadata": {},
   "source": [
    "## Filtering with extracted metadata"
   ]
  },
  {
   "cell_type": "code",
   "execution_count": 3,
   "metadata": {},
   "outputs": [
    {
     "name": "stdout",
     "output_type": "stream",
     "text": [
      "Init feature_pipeline\n"
     ]
    }
   ],
   "source": [
    "from feature_pipeline.rag.query_expanison import QueryExpansion\n",
    "from feature_pipeline.rag.query_meta_extractor import QueryMetaExtractor"
   ]
  },
  {
   "cell_type": "code",
   "execution_count": 10,
   "metadata": {},
   "outputs": [
    {
     "data": {
      "text/plain": [
       "['1. What are the latest positive developments in Ethereum as of today?',\n",
       " '2. Are there any recent optimistic reports or updates on Ethereum?',\n",
       " '3. Can you find any current favorable information or events related to Ethereum?',\n",
       " \"4. What's the current upbeat news regarding Ethereum's progress or updates?\",\n",
       " '5. Is there any encouraging and recent news about the Ethereum blockchain today?']"
      ]
     },
     "execution_count": 10,
     "metadata": {},
     "output_type": "execute_result"
    }
   ],
   "source": [
    "QueryExpansion().generate_response(\"Good news about ethereum today\", 5)"
   ]
  },
  {
   "cell_type": "code",
   "execution_count": 6,
   "metadata": {},
   "outputs": [
    {
     "data": {
      "text/plain": [
       "{'currency': 'btc', 'date': '2024-05-22'}"
      ]
     },
     "execution_count": 6,
     "metadata": {},
     "output_type": "execute_result"
    }
   ],
   "source": [
    "from langchain.globals import set_debug\n",
    "set_debug(False)\n",
    "QueryMetaExtractor().generate_response(\"What is the price of btc today?\")"
   ]
  },
  {
   "cell_type": "code",
   "execution_count": 20,
   "metadata": {},
   "outputs": [
    {
     "name": "stdout",
     "output_type": "stream",
     "text": [
      "\u001b[2m2024-05-22 15:41:47\u001b[0m [\u001b[32m\u001b[1minfo     \u001b[0m] \u001b[1mSuccessfully generated queries for search.\u001b[0m \u001b[36mcls\u001b[0m=\u001b[35mfeature_pipeline.rag.retriever\u001b[0m \u001b[36mnum_queries\u001b[0m=\u001b[35m5\u001b[0m\n",
      "\u001b[2m2024-05-22 15:41:48\u001b[0m [\u001b[32m\u001b[1minfo     \u001b[0m] \u001b[1mExtracted currency from query bitcoin\u001b[0m \u001b[36mcls\u001b[0m=\u001b[35mfeature_pipeline.rag.retriever\u001b[0m\n",
      "\u001b[2m2024-05-22 15:41:48\u001b[0m [\u001b[32m\u001b[1minfo     \u001b[0m] \u001b[1mExtracted date from query 2024-05-22\u001b[0m \u001b[36mcls\u001b[0m=\u001b[35mfeature_pipeline.rag.retriever\u001b[0m\n",
      "\u001b[2m2024-05-22 15:41:48\u001b[0m [\u001b[32m\u001b[1minfo     \u001b[0m] \u001b[1mAll documents retrieved successfully.\u001b[0m \u001b[36mcls\u001b[0m=\u001b[35mfeature_pipeline.rag.retriever\u001b[0m \u001b[36mnum_documents\u001b[0m=\u001b[35m15\u001b[0m\n"
     ]
    }
   ],
   "source": [
    "from feature_pipeline.rag.retriever import VectorRetriever\n",
    "\n",
    "query = \"Are there good news about bitcoin today?\"\n",
    "result = VectorRetriever(query).retrieve_top_k(k=10,to_expand_to_n_queries=5)"
   ]
  },
  {
   "cell_type": "code",
   "execution_count": 28,
   "metadata": {},
   "outputs": [
    {
     "name": "stdout",
     "output_type": "stream",
     "text": [
      "\n",
      "\n",
      "\u001b[1m> Entering new LLMChain chain...\u001b[0m\n",
      "Prompt after formatting:\n",
      "\u001b[32;1m\u001b[1;3mYou are an AI language model assistant. Your task is to rerank passages related to a query\n",
      "    based on their relevance. \n",
      "    The most relevant passages should be put at the beginning. \n",
      "    You should only pick at max 3 passages.\n",
      "    The provided and reranked documents are separated by '\n",
      "#next-document#\n",
      "'.\n",
      "    \n",
      "    The following are passages related to this query: Are there good news about bitcoin today?.\n",
      "    \n",
      "    Passages: \n",
      "    the post top crypto events to watch next week : binance vs. nigeria, decision on ethereum etf, and crypto bill appeared first on coinpedia fintech newsas we approach the end of may, crypto traders are [ + 315 chars ]\n",
      "#next-document#\n",
      "ethereum news, bitcoin updates, and altcoin market. best crypto debit card [ url ] woofi... # bitcoin this story appeared on youtube. com,.\n",
      "#next-document#\n",
      "the post crypto market analysis : when will bitcoin and altcoins rally? appeared first on coinpedia fintech newseven after a short rise, btc is still trying to break $ 64, 000 in the downtrend. analysts [ + 324 chars ]\n",
      "#next-document#\n",
      "both bitcoin ( btc ) and ethereum appear to currently be the center of attention in the crypto market so far, with bitcoin recently hitting just above a 24 - hour high of $ 71, 650 mark, marking a 6. 4 % inc [ + 3493 chars ]\n",
      "#next-document#\n",
      "this article originally appeared in first mover, coindesks daily newsletter, putting the latest moves in crypto markets in context. subscribe to get it in your inbox every day. bitcoin rose above $ 7 [ + 2406 chars ]\n",
      "#next-document#\n",
      "markets have long considered bitcoin's recent halving as a major price bolster, but it could bring a wave of selling from one corner of the sector, according to kaiko research. the april halving is [ + 1708 chars ]\n",
      "#next-document#\n",
      "one month after bitcoins big halving event, people in the crypto community want to know where the major cryptocurrency is heading. the latest bitcoin halving a technical event that cuts the reward f [ + 2830 chars ]\n",
      "#next-document#\n",
      "this article originally appeared in first mover, coindesks daily newsletter, putting the latest moves in crypto markets in context. subscribe to get it in your inbox every day. bitcoin rose above $ 7 [ + 2406 chars ]\n",
      "#next-document#\n",
      "the post top crypto events to watch next week : binance vs. nigeria, decision on ethereum etf, and crypto bill appeared first on coinpedia fintech newsas we approach the end of may, crypto traders are [ + 315 chars ]\n",
      "#next-document#\n",
      "this article originally appeared in first mover, coindesks daily newsletter, putting the latest moves in crypto markets in context. subscribe to get it in your inbox every day. bitcoin rose above $ 7 [ + 2406 chars ]\n",
      "#next-document#\n",
      "ethereum news, bitcoin updates, and altcoin market. best crypto debit card [ url ] woofi... # bitcoin this story appeared on youtube. com,.\n",
      "#next-document#\n",
      "both bitcoin ( btc ) and ethereum appear to currently be the center of attention in the crypto market so far, with bitcoin recently hitting just above a 24 - hour high of $ 71, 650 mark, marking a 6. 4 % inc [ + 3493 chars ]\n",
      "#next-document#\n",
      "in the midst of recent market turbulence and widespread speculation about the future of bitcoin, cryptocurrency analyst and trader, crypto jelle has offered an optimistic outlook for btc, affirming t [ + 249 chars ]\n",
      "#next-document#\n",
      "this article originally appeared in first mover, coindesks daily newsletter, putting the latest moves in crypto markets in context. subscribe to get it in your inbox every day. bitcoin rose above $ 7 [ + 2406 chars ]\n",
      "#next-document#\n",
      "crypto industry insiders are becoming more optimistic that new legislation that would sideline the u. s. securities and exchange commission will get strong bipartisan support in a vote this week, and [ + 337 chars ]\n",
      "    \u001b[0m\n",
      "\n",
      "\u001b[1m> Finished chain.\u001b[0m\n"
     ]
    }
   ],
   "source": [
    "from feature_pipeline.rag.reranking import Reranker\n",
    "hits = [item.payload[\"content\"] for item in result]\n",
    "reranked_results = Reranker().generate_response(query=query, passages=hits, keep_top_k=3)"
   ]
  },
  {
   "cell_type": "code",
   "execution_count": 30,
   "metadata": {},
   "outputs": [
    {
     "data": {
      "text/plain": [
       "'both bitcoin ( btc ) and ethereum appear to currently be the center of attention in the crypto market so far, with bitcoin recently hitting just above a 24 - hour high of $ 71, 650 mark, marking a 6. 4 % inc [ + 3493 chars ]'"
      ]
     },
     "execution_count": 30,
     "metadata": {},
     "output_type": "execute_result"
    }
   ],
   "source": [
    "reranked_results[0]"
   ]
  }
 ],
 "metadata": {
  "kernelspec": {
   "display_name": "rag-system-_6t_t_f9-py3.10",
   "language": "python",
   "name": "python3"
  },
  "language_info": {
   "codemirror_mode": {
    "name": "ipython",
    "version": 3
   },
   "file_extension": ".py",
   "mimetype": "text/x-python",
   "name": "python",
   "nbconvert_exporter": "python",
   "pygments_lexer": "ipython3",
   "version": "3.10.4"
  }
 },
 "nbformat": 4,
 "nbformat_minor": 2
}
