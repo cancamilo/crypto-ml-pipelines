{
 "cells": [
  {
   "cell_type": "markdown",
   "metadata": {},
   "source": [
    "# Data Playground"
   ]
  },
  {
   "cell_type": "code",
   "execution_count": 2,
   "metadata": {},
   "outputs": [],
   "source": [
    "%load_ext autoreload\n",
    "%autoreload 2\n",
    "\n",
    "import os\n",
    "import sys\n",
    "\n",
    "# Do this to enable importing modules\n",
    "src_path = os.path.join(os.path.abspath(\"\"), \"..\")\n",
    "sys.path.insert(0, src_path)"
   ]
  },
  {
   "cell_type": "markdown",
   "metadata": {},
   "source": [
    "## Scraping tests"
   ]
  },
  {
   "cell_type": "code",
   "execution_count": 3,
   "metadata": {},
   "outputs": [
    {
     "name": "stdout",
     "output_type": "stream",
     "text": [
      "Init data ingestion pipeline /Users/camiloramirezf/Documents/mai-repos/text-fetch-etl/data_ingestion_pipeline\n",
      "Connection to database with uri: mongodb://localhost:30001,localhost:30002,localhost:30003/?replicaSet=my-replica-set successful\n"
     ]
    }
   ],
   "source": [
    "from data_ingestion_pipeline.crawlers.coin_telegraph import CoinTelegraphCrawler"
   ]
  },
  {
   "cell_type": "code",
   "execution_count": null,
   "metadata": {},
   "outputs": [],
   "source": [
    "from selenium import webdriver\n",
    "from tempfile import mkdtemp\n",
    "options = webdriver.ChromeOptions()\n",
    "options.binary_location = \"/opt/chrome/chrome\"\n",
    "options.add_argument(\"--no-sandbox\")\n",
    "options.add_argument(\"--headless=new\")\n",
    "options.add_argument(\"--single-process\")\n",
    "options.add_argument(\"--disable-dev-shm-usage\")\n",
    "options.add_argument(\"--disable-gpu\")\n",
    "options.add_argument(\"--log-level=3\")\n",
    "options.add_argument(\"--disable-popup-blocking\")\n",
    "options.add_argument(\"--disable-notifications\")\n",
    "options.add_argument(\"--disable-dev-tools\")\n",
    "options.add_argument(\"--ignore-certificate-errors\")\n",
    "options.add_argument(\"--no-zygote\")\n",
    "options.add_argument(f\"--user-data-dir={mkdtemp()}\")\n",
    "options.add_argument(f\"--data-path={mkdtemp()}\")\n",
    "options.add_argument(f\"--disk-cache-dir={mkdtemp()}\")\n",
    "options.add_argument(\"--remote-debugging-port=9222\")\n",
    "\n",
    "scroll_limit = 5"
   ]
  },
  {
   "cell_type": "code",
   "execution_count": null,
   "metadata": {},
   "outputs": [],
   "source": [
    "driver = webdriver.Chrome()"
   ]
  },
  {
   "cell_type": "code",
   "execution_count": null,
   "metadata": {},
   "outputs": [],
   "source": [
    "driver.get(\"https://cointelegraph.com/\")"
   ]
  },
  {
   "cell_type": "code",
   "execution_count": null,
   "metadata": {},
   "outputs": [],
   "source": [
    "# crawler = CoinTelegraphCrawler()\n",
    "# crawler.extract(\"\")"
   ]
  },
  {
   "cell_type": "code",
   "execution_count": null,
   "metadata": {},
   "outputs": [],
   "source": [
    "from selenium import webdriver\n",
    "from selenium.webdriver.common.action_chains import ActionChains\n",
    "from selenium.webdriver.common.by import By\n",
    "\n",
    "driver = webdriver.Chrome()\n",
    "driver.get(\"https://cointelegraph.com/\")\n",
    "\n",
    "# Create an ActionChains object\n",
    "actions = ActionChains(driver)"
   ]
  },
  {
   "cell_type": "code",
   "execution_count": null,
   "metadata": {},
   "outputs": [],
   "source": [
    "main_carousel = driver.find_element(By.XPATH, \"//div[@data-testid='carousel-main']\")\n",
    "first_li = main_carousel.find_element(By.XPATH, \"//a[@data-testid='main-news-controls__link']\")\n",
    "first_li.click()"
   ]
  },
  {
   "cell_type": "code",
   "execution_count": null,
   "metadata": {},
   "outputs": [
    {
     "data": {
      "text/plain": [
       "True"
      ]
     },
     "execution_count": 111,
     "metadata": {},
     "output_type": "execute_result"
    }
   ],
   "source": [
    "first_li.is_displayed()"
   ]
  },
  {
   "cell_type": "code",
   "execution_count": null,
   "metadata": {},
   "outputs": [],
   "source": [
    "from bs4 import BeautifulSoup\n",
    "import time\n",
    "scrolls = 0\n",
    "max_scrolls = 20\n",
    "last_height = 0\n",
    "\n",
    "while True:\n",
    "    # # Scroll down the page a few times\n",
    "    driver.execute_script(\"window.scrollBy(0, 2 * window.innerHeight);\")\n",
    "\n",
    "    # Wait to load page\n",
    "    time.sleep(2)\n",
    "\n",
    "    # Break the loop if no more new content\n",
    "    # new_height = driver.execute_script(\"return document.body.scrollHeight\")\n",
    "    # if new_height == last_height:\n",
    "    #     break\n",
    "    # last_height = new_height\n",
    "\n",
    "    scrolls += 1\n",
    "    if scrolls == max_scrolls:\n",
    "        break"
   ]
  },
  {
   "cell_type": "code",
   "execution_count": null,
   "metadata": {},
   "outputs": [],
   "source": [
    "articles = []\n",
    "\n",
    "# Parse the page source\n",
    "soup = BeautifulSoup(driver.page_source, 'html.parser')\n",
    "\n",
    "# Find all the 'article' elements\n",
    "article_elements = soup.find_all('article')\n",
    "\n",
    "# For each 'article', find the 'h1' element and all 'div' siblings\n",
    "for article in article_elements:\n",
    "    h1_element = article.find('h1')\n",
    "    title = h1_element.text\n",
    "    summary = h1_element.find_next_sibling('div').text\n",
    "    content_div = article.find('div', class_='post__content-wrapper')\n",
    "    time_element = article.find('time')\n",
    "    datetime = time_element.get('datetime') if time_element else None\n",
    "    ps = content_div.find_all('p')\n",
    "    content = ' '.join(p.text for p in ps if \"Advertisement\" not in p.text)\n",
    "\n",
    "    # Create a dictionary for each article and append it to the list\n",
    "    articles.append({'title': title, 'summary': summary, 'content': content, 'datetime': datetime})\n",
    "\n",
    "# Close the driver\n",
    "# driver.quit()"
   ]
  },
  {
   "cell_type": "code",
   "execution_count": null,
   "metadata": {},
   "outputs": [
    {
     "name": "stdout",
     "output_type": "stream",
     "text": [
      " Weekend Wrap: SOL set for bronze, Bitcoiner fat fingers $100K fee and more\n"
     ]
    }
   ],
   "source": [
    "import textwrap\n",
    "print(textwrap.fill(articles[7]['title'], width=100))"
   ]
  },
  {
   "cell_type": "code",
   "execution_count": null,
   "metadata": {},
   "outputs": [
    {
     "data": {
      "text/plain": [
       "12"
      ]
     },
     "execution_count": 122,
     "metadata": {},
     "output_type": "execute_result"
    }
   ],
   "source": [
    "len(articles)"
   ]
  },
  {
   "cell_type": "markdown",
   "metadata": {},
   "source": [
    "## Mongo Writing and reading test\n"
   ]
  },
  {
   "cell_type": "code",
   "execution_count": null,
   "metadata": {},
   "outputs": [
    {
     "name": "stdout",
     "output_type": "stream",
     "text": [
      "Connection to database with uri: mongodb://localhost:30001,localhost:30002/?replicaSet=my-replica-set successful\n"
     ]
    }
   ],
   "source": [
    "%load_ext autoreload\n",
    "%autoreload 2\n",
    "\n",
    "import os\n",
    "import sys\n",
    "\n",
    "# Do this to enable importing modules\n",
    "src_path = os.path.join(os.path.abspath(\"\"), \"..\")\n",
    "sys.path.insert(0, src_path)\n",
    "from data_ingestion_pipeline.models.documents import ArticleDocument\n",
    "from data_ingestion_pipeline.crawlers.coin_telegraph import CoinTelegraphCrawler"
   ]
  },
  {
   "cell_type": "markdown",
   "metadata": {},
   "source": [
    "### Write to local mongo replica\n",
    "\n",
    "Use a test db and a test collection to write\n"
   ]
  },
  {
   "cell_type": "code",
   "execution_count": null,
   "metadata": {},
   "outputs": [
    {
     "name": "stderr",
     "output_type": "stream",
     "text": [
      "INFO:pymongo.serverSelection:{\"message\": \"Waiting for suitable server to become available\", \"selector\": \"<function writable_server_selector at 0x107f19ea0>\", \"operation\": \"insert\", \"topologyDescription\": \"<TopologyDescription id: 663dd4d6c7ab7bcef353bfd2, topology_type: ReplicaSetNoPrimary, servers: [<ServerDescription ('localhost', 30001) server_type: Unknown, rtt: None>, <ServerDescription ('localhost', 30002) server_type: Unknown, rtt: None>, <ServerDescription ('localhost', 30003) server_type: Unknown, rtt: None>]>\", \"clientId\": {\"$oid\": \"663dd4d6c7ab7bcef353bfd2\"}, \"remainingTimeMS\": 29}\n"
     ]
    },
    {
     "name": "stdout",
     "output_type": "stream",
     "text": [
      "Data inserted with _id: 663dd4d6c7ab7bcef353bfd3\n"
     ]
    }
   ],
   "source": [
    "from pymongo import MongoClient\n",
    "mongodb_uri = \"mongodb://localhost:30001,localhost:30002,localhost:30003/?replicaSet=my-replica-set\"\n",
    "database_name = \"db_test\"\n",
    "collection_name = \"test\"\n",
    "test_data = {\"name\": \"Copy dino\"}\n",
    "\n",
    "client = MongoClient(mongodb_uri)\n",
    "db = client[database_name]\n",
    "collection = db[collection_name]\n",
    "\n",
    "try:\n",
    "    result = collection.insert_one(test_data)\n",
    "    print(f\"Data inserted with _id: {result.inserted_id}\")\n",
    "except Exception as e:\n",
    "    print(f\"An error occurred: {e}\")\n",
    "finally:\n",
    "    client.close()"
   ]
  },
  {
   "cell_type": "markdown",
   "metadata": {},
   "source": [
    "### Write using crawler and the model classes"
   ]
  },
  {
   "cell_type": "code",
   "execution_count": null,
   "metadata": {},
   "outputs": [],
   "source": [
    "crawler = CoinTelegraphCrawler()\n",
    "crawler.extract()"
   ]
  },
  {
   "cell_type": "code",
   "execution_count": null,
   "metadata": {},
   "outputs": [],
   "source": [
    "# test saving articles\n",
    "doc = ArticleDocument(\n",
    "    source=\"test\",\n",
    "    title=\"Moon will show\",\n",
    "    summary=\"It is happening, everything is mooning\",\n",
    "    content=\"Moon is the only destiny now\",\n",
    "    published_at=\"2024-05-05\"\n",
    ")\n",
    "\n",
    "# articles = [doc]\n",
    "# crawler.save(articles)"
   ]
  },
  {
   "cell_type": "code",
   "execution_count": null,
   "metadata": {},
   "outputs": [
    {
     "data": {
      "text/plain": [
       "{'published_at': '2024-05-08',\n",
       " 'title': 'Moon will show',\n",
       " 'content': 'Moon is the only destiny now',\n",
       " 'summary': 'It is happening, everything is mooning',\n",
       " 'date': '2024-05-05'}"
      ]
     },
     "execution_count": 54,
     "metadata": {},
     "output_type": "execute_result"
    }
   ],
   "source": [
    "doc.model_dump(exclude=\"id\")"
   ]
  },
  {
   "cell_type": "markdown",
   "metadata": {},
   "source": [
    "### Reading \n"
   ]
  },
  {
   "cell_type": "code",
   "execution_count": null,
   "metadata": {},
   "outputs": [
    {
     "name": "stdout",
     "output_type": "stream",
     "text": [
      "{'_id': '872ef4a5-399f-45e3-b38a-7fd7557670b5', 'published_at': '2024-05-08', 'title': 'Moon soon', 'content': 'Moon is the only destiny now', 'summary': 'It is happening, everything is mooning', 'date': '2024-05-05'}\n",
      "{'_id': '61f69029-ba68-436e-936c-c5287e67b8a0', 'published_at': '2024-05-08', 'title': 'Moon later', 'content': 'Moon is the only destiny now', 'summary': 'It is happening, everything is mooning', 'date': '2024-05-05'}\n",
      "{'_id': 'b077e14e-0261-4d26-9f05-ce5e8e4c56d1', 'published_at': '2024-05-08', 'title': 'Moon now', 'content': 'Moon is the only destiny now', 'summary': 'It is happening, everything is mooning', 'date': '2024-05-05'}\n",
      "{'_id': 'cfe359f5-028f-45f3-bff7-6e30a6cec9be', 'published_at': '2024-05-08', 'title': 'Moon now', 'content': 'Moon is the only destiny now', 'summary': 'It is happening, everything is mooning', 'date': '2024-05-05'}\n",
      "{'_id': '4ceb0d85-35cd-4574-8afa-7a8cd2d038d9', 'published_at': '2024-05-08', 'title': 'Moon now', 'content': 'Moon is the only destiny now', 'summary': 'It is happening, everything is mooning', 'date': '2024-05-05'}\n",
      "{'_id': '190e2b47-8bf8-47f7-86c3-af4cfb28d34d', 'published_at': '2024-05-08', 'title': ' SEC files final response in Ripple XRP case ', 'content': 'Ripple Labs and the United States Securities and Exchange Commission (SEC) have made significant progress in their legal battle, with the SEC filing its final reply in the lawsuit’s remedies stage. In its recent response to the remedies brief, the SEC challenged Ripple’s insistence that the blockchain startup acted without recklessness and that there should be no “widespread uncertainty” about the legal status of XRP  XRP  $0.52  despite the court previously rejecting this “fair notice” defense.  XRP   $0.52  The SEC also maintains its stance on whether Ripple will likely engage in similar actions in the future, even though Ripple has not violated any rules since the XRP lawsuit was initiated in 2020.  According to the remedies brief, Ripple has tried to downplay its liability while highlighting its cooperation with the SEC since the 2013 XRP initial coin offering. However, the SEC emphasized that, according to the law, even if Ripple had refrained from violations since 2020, another breach is still possible. The SEC argues that Ripple’s assurances about changing its behavior post-lawsuit do not justify avoiding injunctions. According to the SEC, Ripple’s claims of following legal guidance and restructuring future XRP sales based on the lawsuit’s order are misleading. The SEC contends that Ripple misinterprets the order and fails to accept its implications for compliance.  The reply refutes Ripple’s assertions about conducting sales outside the U.S. and to accredited investors, as these defenses were abandoned during summary judgment.  Additionally, Ripple’s claims of contract changes for on-demand liquidity sales are dismissed, as these contracts already lacked certain restrictions identified as violations.  Related: Did XRP price just bottom against Bitcoin?  Ultimately, the SEC argues that Ripple’s assertions do not negate the need for injunctions to prevent future violations. Responding to the SEC’s reply in the remedies brief, Ripple’s chief legal officer, Stuart Alderoty, commented that the SEC’s reputation continues to decline.  He highlighted that international financial regulators with robust crypto licensing frameworks might be surprised that the SEC regard its efforts as akin to issuing fishing licenses. Alderoty criticized the SEC for not consistently applying the law. He expressed optimism about resolving the XRP lawsuit. While the crypto community eagerly awaits the case’s outcome, analysts anticipate a final judgment around September. Ripple is set to introduce XRPL enterprise solutions to the Japanese market through a strategic partnership with Tokyo-based consulting firm HashKey DX.  Magazine: 7 ICO alternatives for blockchain fundraising: Crypto airdrops, IDOs & more Add reaction', 'summary': ' The SEC argues that Ripple’s claims do not negate the need for injunctions to prevent future violations. ', 'date': '2024-05-08'}\n",
      "{'_id': '70401b50-c83b-473a-87a4-494cc0fb0985', 'published_at': '2024-05-08', 'title': ' Traders rush to short Ether as Grayscale pulls its futures ETF plan ', 'content': 'Ether\\xa0traders have stacked up their short positions over the last 24 hours, just as Grayscale Investments pulled its application for an Ethereum futures exchange-traded fund (ETF). Ether  ETH  $3,003  is hovering close to a key support level at $3,010, having dropped by 1.85% over the past 24 hours, according to CoinMarketCap data.   ETH   $3,003  However, liquidation maps show traders have more conviction that the price is going down in the near term — with $345 million in short positions set to liquidate if the price goes up by 3%.  On the other hand, a 3% drop to $2,920 would only wipe $237 million in long positions. It comes after Grayscale’s May 7 decision to withdraw its Ether futures ETF application, just three weeks before the United States Securities and Exchange Commission (SEC) was set to decide on it. It also comes amid speculation on whether Ether could be classified as a security and the fate of spot Ether ETF applications later in May.  Despite optimism earlier in the year, analysts are becoming increasingly doubtful about the chances of the SEC approving a spot Ether ETF as the next May 23 deadline approaches. The sentiment among the crypto community is similar. According to the New York-based crypto predictions platform Polymarket, 92% of participants believe the spot Ether ETFs will be denied. There are also broader concerns over Ethereum’s overall usage and lack of speculative interest from short-term holders (STH). “Usage of Ethereum is currently so low, that their burn mechanism is not keeping up with issuance to validators,” crypto on-chain analyst James Check, aka “Checkmatey,” said in a May 7 post on X. Related: SEC will classify Ether as security, deny spot Ether ETFs — Michael Saylor On May 8, Glassnode said Ether’s under-performance this cycle relative to Bitcoin  BTC  $62,377  is due to a “measurable lag in speculative interest” from the STH cohort.  BTC   $62,377  However, just days before the news, some traders were optimistic that Ether’s price could experience a breakout by the end of 2024. “Similar fractal as of Q4 of 2020, Breakout could happen in Q3 of 2024 as per historical pattern,” pseudonymous crypto trader Ash Crypto told his 1.1 million followers on May 6. “Ethereum is presently moving within a falling wedge pattern, with its price testing a notable support zone. Anticipate possible sideways movement around this support area,” pseudonymous crypto commentator TheCryptoPalace\\xa0told their 20,400 X followers on May 1. Magazine: Buy altcoins now, but sell before ‘mid-2025’: Charles Edwards, X Hall of Flame This article does not contain investment advice or recommendations. Every investment and trading move involves risk, and readers should conduct their own research when making a decision.\\n Add reaction', 'summary': ' A 3% rebound in Ether’s price would wipe $345 million in short positions amid Grayscale withdrawing its Ether futures ETF application. ', 'date': '2024-05-08'}\n",
      "{'_id': '7337d5cf-83df-46c5-aa91-2e75869b1cff', 'published_at': '2024-05-08', 'title': ' DePIN and AI are set to collide: Interview with FutureMoney Group ', 'content': ' Simply known as DePIN, decentralized physical infrastructure networks bring a fresh take on Web3 and blockchain by offering real-world usability and value for providers and network participants, and investors are taking notice. Established in 2017, FutureMoney Group is an Asia-based venture capital (VC) focusing on the DePIN industry and artificial intelligence (AI) with an asset management scale of $50 million. The company covers alpha primary and secondary investment layouts of projects from different scales in\\xa0varying ecological niches. In this interview, FutureMoney Group co-founders Steven Li and Eo Hao draw an insightful image of the current DePIN landscape and how it can expand the Web3 space. Cointelegraph: How do you see the current state of the DePIN ecosystem? Steven Li: FutureMoney Group has been focusing on the DePIN area and has invested in many portfolios. We have tried our best to cover the different subdivisions of the DePIN sector so we have a more intuitive understanding of the development of the DePIN ecosystem.\\xa0 The DePIN ecosystem mainly has the following characteristics:\\xa0  BTC   $62,377  CT: FutureMoney Group is known as the first VC focusing on the DePIN field in Asia, closing a $20 million fund to invest in DePIN-related products and services. What has attracted the FutureMoney Group to the DePIN space? Eo Hao: The reason why we chose DePIN is that, on the one hand, we believe that after experiencing multiple rounds of bull markets, the overall market value of Web3 has expanded several times, and the Bitcoin ETF has been passed, the possibility and necessity of being connected to the real world has become imminent. DePIN is a good starting point and expression that combines the two worlds. On the other hand, because some of the LPs behind us include the largest hardware manufacturers in the Asian market, including electric vehicle manufacturing companies and mining farms listed in the United States, we pay special attention to the upstream and downstream related to blockchain and hardware.  EO is sharing DePIN opportunities on Web3 festival 2024. Source: FutureMoney Group CT: Could you share the story of the FutureMoney Group? When did you establish the company? SL: Co-founder Eo Hao and I started to invest in blockchain and encryption projects in 2016. In addition to buying BTC and Ether  ETH  $3,003 , we are also individual investors in BAT, Loopring, Qtum and other projects. After experiencing the ICO craze in 2017, we started investing in early crypto projects in early 2018 with a total of $1.5 million from our family, friends and our own savings.  ETH   $3,003   The two co-founders of FutureMoney Group are Eo Hao and Steven Li. Source: FutureMoney Group Although this amount cannot be counted as our official first fund, we started from a personal landmark event when an investor transformed into a company. CT: What was your initial goal when starting FutureMoney Group, and what are your goals now? SL: Because Eo and I both have financial technology backgrounds, our initial interest in blockchain technology also came from the belief that it would revolutionize the financial system. We established this fund to find the next generation of “money\" through investment, so the company Named FutureMoney. After several years of development and upgrading, we have developed from the initial venture capital business to a holding company in the crypto field covering asset management, mining, fund of funds and incubators, so after 2021, we officially changed the company name to FutureMoney Group. We hope to continue supporting early-stage startups by delving deeper into the crypto field through our methods while opening the window for more Asian investors to allocate crypto assets. CT: Where does FutureMoney Group stand now? Could you detail your investment practices and portfolio? EH: Our current investment theme is the Future of Work. As mentioned, FMG is the most professional investment institution on the DePIN track. Messari has included us, and DePIN Buddy has listed us as one of the most professional investment institutions on the DePIN track. Together with Borderless, Multicoin is equally famous. Our expertise is reflected in the depth and breadth of our DePIN Portfolio layout. We have three products: CT: What are your most significant milestones so far? SL: We successfully launched the world’s first DePIN Index and were listed by Messari as a representative DePIN VC in Asia in their DePIN mapping. We cooperate with the IOTEX Foundation for the Depin Surf. We are also working with China Bridge Capital and well-known hardware equipment manufacturers that supply hardware to Apple and Tesla. CT: How do you see the future of the DePIN space? EH: If many hot spots such as BTC ecology, decentralized finance (DeFi) and Ethereum are the in-depth internal builds of the Web3 industry and seek deeper research, then DePIN, AI and RWA are helping Web3 expand its breadth. Both have huge market potential, and the Bitcoin ecosystem is also a trillion-dollar market. But, in the real world, we strongly believe that DePIN will have huge development potential and wealth space. Disclaimer. Cointelegraph does not endorse any content or product on this page. While we aim at providing you with all important information that we could obtain in this sponsored article, readers should do their own research before taking any actions related to the company and carry full responsibility for their decisions, nor can this article be considered as investment advice. ', 'summary': ' DePIN holds the key to the future of Web3, and this VC firm is helping Asia-based startups build the next big thing for DePIN. ', 'date': '2024-05-08'}\n",
      "{'_id': '2fd825eb-2041-4225-a39e-8ff2eb0199f2', 'published_at': '2024-05-08', 'title': ' NBA, football, NASCAR stars cough up $2.4M in Voyager promo suit ', 'content': 'Three high-profile American sports personalities have agreed to collectively pay $2.42 million to settle allegations that they helped promote the failed cryptocurrency exchange Voyager Digital. According to a class action settlement filed on May 3, retired NFL star Rob “Gronk” Gronkowski will pay the largest share of $1.9 million. NBA player Victor Oladipo will pay $500,000 and NASCAR driver Landon Cassill will pay $25,000. All three sports stars have agreed to the settlements without admitting to or denying any of the accusations. The proposed settlement includes all U.S. individuals who enrolled in a Voyager Earn Program Account or purchased VGX tokens from October 2019 to the preliminary approval date. In addition to approving the $2.4 million settlement, plaintiffs also plan to ask for an award of attorney fees of roughly $792,000. Gronkowski, who launched an NFT collection in 2021, became a Voyager partner, “brand ambassador,” shareholder, and VGX tokenholder in September 2021, according to a press release at the time. Investor’s legal representative Adam Moskowitz said the settlements are largely due to the athletes, “who really wanted to help their fans.” “Gronk had a sincere empathy for all of his fans, even though he lost money with Voyager as well. It is no surprise he continues to be such a trusted and respected spokesperson,” he told Law360. A group of investors filed the class action against Dallas Mavericks owner Mark Cuban in 2022, adding Gronkowski and other Voyager promoters in 2023.  The settlements were negotiated through mediation aiming to resolve two key issues — whether the Voyager products were unregistered securities and whether the promoters solicited investors. Related: Tom Brady roasted on crypto in Netflix special — ‘How did you fall for that?’ The crypto trading platform filed for bankruptcy in July 2022 after being impacted by market turmoil in the wake of the Terra/Luna collapse in May and the default of loans to the Three Arrows Capital (3AC) hedge fund. In April, Voyager Digital made some progress toward compensating its creditors by securing $484 million through settlements with FTX, Three Arrows Capital, and Directors and Officers (D&O) insurance claims.  Magazine: Billions are spent marketing crypto to sports fans — Is it worth it? Add reaction', 'summary': ' Rob Gronkowski, Victor Oladipo, and Landon Cassill have agreed to settle with plaintiffs in their ongoing case against Voyager Digital.  ', 'date': '2024-05-08'}\n",
      "{'_id': '92c44a46-dad8-4155-9d09-fb4e31306084', 'published_at': '2024-05-08', 'title': 'Moon will show', 'content': 'Moon is the only destiny now', 'summary': 'It is happening, everything is mooning', 'date': '2024-05-05'}\n"
     ]
    }
   ],
   "source": [
    "from pymongo import MongoClient\n",
    "\n",
    "mongodb_uri = \"mongodb://localhost:30001,localhost:30002,localhost:30003/?replicaSet=my-replica-set\"\n",
    "database_name = \"crypto-articles\"\n",
    "collection_name = \"articles\"\n",
    "\n",
    "client = MongoClient(mongodb_uri)\n",
    "db = client[database_name]\n",
    "collection = db[collection_name]\n",
    "\n",
    "try:\n",
    "    documents = collection.find({})\n",
    "    for doc in documents:\n",
    "        print(doc)\n",
    "except Exception as e:\n",
    "    print(f\"An error occurred: {e}\")\n",
    "finally:\n",
    "    client.close()"
   ]
  },
  {
   "cell_type": "markdown",
   "metadata": {},
   "source": [
    "## Telegram backfill test"
   ]
  },
  {
   "cell_type": "code",
   "execution_count": null,
   "metadata": {},
   "outputs": [
    {
     "name": "stderr",
     "output_type": "stream",
     "text": [
      "INFO:telethon.network.mtprotosender:Connecting to 149.154.167.92:443/TcpFull...\n",
      "INFO:telethon.network.mtprotosender:Connection to 149.154.167.92:443/TcpFull complete!\n",
      "INFO:crawlers.telegram:Telegram client connected\n",
      "INFO:telethon.network.mtprotosender:Disconnecting from 149.154.167.92:443/TcpFull...\n",
      "INFO:telethon.network.mtprotosender:Disconnection from 149.154.167.92:443/TcpFull complete!\n",
      "INFO:telethon.network.mtprotosender:Connecting to 149.154.167.92:443/TcpFull...\n",
      "INFO:telethon.network.mtprotosender:Connection to 149.154.167.92:443/TcpFull complete!\n",
      "INFO:crawlers.telegram:Telegram client connected\n",
      "INFO:telethon.network.mtprotosender:Disconnecting from 149.154.167.92:443/TcpFull...\n",
      "INFO:telethon.network.mtprotosender:Disconnection from 149.154.167.92:443/TcpFull complete!\n"
     ]
    }
   ],
   "source": [
    "from data_ingestion_pipeline.crawlers import TelegramChannelsCrawler\n",
    "telegram_crawler = TelegramChannelsCrawler()\n",
    "result_day = await telegram_crawler.extract_day(\"2024-05-09\")\n",
    "result_total = await telegram_crawler.extract()"
   ]
  },
  {
   "cell_type": "code",
   "execution_count": null,
   "metadata": {},
   "outputs": [],
   "source": [
    "def to_df(result):\n",
    "    import pandas as pd\n",
    "    df =  pd.DataFrame.from_records([record.model_dump() for record in result])\n",
    "    df[\"parsed_dt\"] = pd.to_datetime(df[\"published_at\"])\n",
    "    return df\n"
   ]
  },
  {
   "cell_type": "code",
   "execution_count": null,
   "metadata": {},
   "outputs": [],
   "source": [
    "day_df =  to_df(result_day)\n",
    "total_df = to_df(result_total)"
   ]
  },
  {
   "cell_type": "code",
   "execution_count": null,
   "metadata": {},
   "outputs": [
    {
     "data": {
      "text/html": [
       "<div>\n",
       "<style scoped>\n",
       "    .dataframe tbody tr th:only-of-type {\n",
       "        vertical-align: middle;\n",
       "    }\n",
       "\n",
       "    .dataframe tbody tr th {\n",
       "        vertical-align: top;\n",
       "    }\n",
       "\n",
       "    .dataframe thead th {\n",
       "        text-align: right;\n",
       "    }\n",
       "</style>\n",
       "<table border=\"1\" class=\"dataframe\">\n",
       "  <thead>\n",
       "    <tr style=\"text-align: right;\">\n",
       "      <th></th>\n",
       "      <th>parsed_dt</th>\n",
       "    </tr>\n",
       "  </thead>\n",
       "  <tbody>\n",
       "    <tr>\n",
       "      <th>count</th>\n",
       "      <td>12</td>\n",
       "    </tr>\n",
       "    <tr>\n",
       "      <th>mean</th>\n",
       "      <td>2024-05-09 00:00:00</td>\n",
       "    </tr>\n",
       "    <tr>\n",
       "      <th>min</th>\n",
       "      <td>2024-05-09 00:00:00</td>\n",
       "    </tr>\n",
       "    <tr>\n",
       "      <th>25%</th>\n",
       "      <td>2024-05-09 00:00:00</td>\n",
       "    </tr>\n",
       "    <tr>\n",
       "      <th>50%</th>\n",
       "      <td>2024-05-09 00:00:00</td>\n",
       "    </tr>\n",
       "    <tr>\n",
       "      <th>75%</th>\n",
       "      <td>2024-05-09 00:00:00</td>\n",
       "    </tr>\n",
       "    <tr>\n",
       "      <th>max</th>\n",
       "      <td>2024-05-09 00:00:00</td>\n",
       "    </tr>\n",
       "  </tbody>\n",
       "</table>\n",
       "</div>"
      ],
      "text/plain": [
       "                 parsed_dt\n",
       "count                   12\n",
       "mean   2024-05-09 00:00:00\n",
       "min    2024-05-09 00:00:00\n",
       "25%    2024-05-09 00:00:00\n",
       "50%    2024-05-09 00:00:00\n",
       "75%    2024-05-09 00:00:00\n",
       "max    2024-05-09 00:00:00"
      ]
     },
     "execution_count": 16,
     "metadata": {},
     "output_type": "execute_result"
    }
   ],
   "source": [
    "day_df.describe()"
   ]
  },
  {
   "cell_type": "code",
   "execution_count": null,
   "metadata": {},
   "outputs": [
    {
     "data": {
      "text/html": [
       "<div>\n",
       "<style scoped>\n",
       "    .dataframe tbody tr th:only-of-type {\n",
       "        vertical-align: middle;\n",
       "    }\n",
       "\n",
       "    .dataframe tbody tr th {\n",
       "        vertical-align: top;\n",
       "    }\n",
       "\n",
       "    .dataframe thead th {\n",
       "        text-align: right;\n",
       "    }\n",
       "</style>\n",
       "<table border=\"1\" class=\"dataframe\">\n",
       "  <thead>\n",
       "    <tr style=\"text-align: right;\">\n",
       "      <th></th>\n",
       "      <th>id</th>\n",
       "      <th>published_at</th>\n",
       "      <th>title</th>\n",
       "      <th>content</th>\n",
       "      <th>summary</th>\n",
       "      <th>parsed_dt</th>\n",
       "    </tr>\n",
       "  </thead>\n",
       "  <tbody>\n",
       "    <tr>\n",
       "      <th>0</th>\n",
       "      <td>b157c707-4b10-45f1-98a5-e0eac367b600</td>\n",
       "      <td>2024-05-09</td>\n",
       "      <td>📌 House Slated To Vote Today On Controversial ...</td>\n",
       "      <td>📌 House Slated To Vote Today On Controversial ...</td>\n",
       "      <td>None</td>\n",
       "      <td>2024-05-09</td>\n",
       "    </tr>\n",
       "    <tr>\n",
       "      <th>1</th>\n",
       "      <td>9259c4dc-d38f-49a5-a29d-391931c4d253</td>\n",
       "      <td>2024-05-09</td>\n",
       "      <td>🚀 Tether Boosts Crypto Payments in Eastern Eur...</td>\n",
       "      <td>🚀 Tether Boosts Crypto Payments in Eastern Eur...</td>\n",
       "      <td>None</td>\n",
       "      <td>2024-05-09</td>\n",
       "    </tr>\n",
       "    <tr>\n",
       "      <th>2</th>\n",
       "      <td>daa77652-27db-40dd-80c5-c4e9b3b77fb8</td>\n",
       "      <td>2024-05-09</td>\n",
       "      <td>💥 Solana 10% APY - only for M2 customers</td>\n",
       "      <td>💥 Solana 10% APY - only for M2 customers! 💥\\n\\...</td>\n",
       "      <td>None</td>\n",
       "      <td>2024-05-09</td>\n",
       "    </tr>\n",
       "    <tr>\n",
       "      <th>3</th>\n",
       "      <td>64a31a35-4856-432e-905a-65f454559ced</td>\n",
       "      <td>2024-05-09</td>\n",
       "      <td>‼️ Coincheck Aims for Nasdaq: Crypto Exchange ...</td>\n",
       "      <td>‼️ Coincheck Aims for Nasdaq: Crypto Exchange ...</td>\n",
       "      <td>None</td>\n",
       "      <td>2024-05-09</td>\n",
       "    </tr>\n",
       "    <tr>\n",
       "      <th>4</th>\n",
       "      <td>2a4bac3e-f469-465a-8992-65a81a1f9ab2</td>\n",
       "      <td>2024-05-09</td>\n",
       "      <td>Nigeria Pushes Back Against Binance, Claims CE...</td>\n",
       "      <td>Nigeria Pushes Back Against Binance, Claims CE...</td>\n",
       "      <td>None</td>\n",
       "      <td>2024-05-09</td>\n",
       "    </tr>\n",
       "  </tbody>\n",
       "</table>\n",
       "</div>"
      ],
      "text/plain": [
       "                                     id published_at  \\\n",
       "0  b157c707-4b10-45f1-98a5-e0eac367b600   2024-05-09   \n",
       "1  9259c4dc-d38f-49a5-a29d-391931c4d253   2024-05-09   \n",
       "2  daa77652-27db-40dd-80c5-c4e9b3b77fb8   2024-05-09   \n",
       "3  64a31a35-4856-432e-905a-65f454559ced   2024-05-09   \n",
       "4  2a4bac3e-f469-465a-8992-65a81a1f9ab2   2024-05-09   \n",
       "\n",
       "                                               title  \\\n",
       "0  📌 House Slated To Vote Today On Controversial ...   \n",
       "1  🚀 Tether Boosts Crypto Payments in Eastern Eur...   \n",
       "2           💥 Solana 10% APY - only for M2 customers   \n",
       "3  ‼️ Coincheck Aims for Nasdaq: Crypto Exchange ...   \n",
       "4  Nigeria Pushes Back Against Binance, Claims CE...   \n",
       "\n",
       "                                             content summary  parsed_dt  \n",
       "0  📌 House Slated To Vote Today On Controversial ...    None 2024-05-09  \n",
       "1  🚀 Tether Boosts Crypto Payments in Eastern Eur...    None 2024-05-09  \n",
       "2  💥 Solana 10% APY - only for M2 customers! 💥\\n\\...    None 2024-05-09  \n",
       "3  ‼️ Coincheck Aims for Nasdaq: Crypto Exchange ...    None 2024-05-09  \n",
       "4  Nigeria Pushes Back Against Binance, Claims CE...    None 2024-05-09  "
      ]
     },
     "execution_count": 17,
     "metadata": {},
     "output_type": "execute_result"
    }
   ],
   "source": [
    "day_df.head()"
   ]
  },
  {
   "cell_type": "markdown",
   "metadata": {},
   "source": [
    "## NewsAPI Test"
   ]
  },
  {
   "cell_type": "code",
   "execution_count": null,
   "metadata": {},
   "outputs": [],
   "source": [
    "from newsapi import NewsApiClient\n",
    "from data_ingestion_pipeline.config import settings\n",
    "from data_ingestion_pipeline.crawlers import NewsFetcher\n",
    "from datetime import datetime, timedelta\n",
    "\n",
    "date_format=\"%Y-%m-%d\"\n",
    "start_dt = datetime.now() - timedelta(days=1)\n",
    "end_dt = datetime.now() - timedelta(days=1)\n",
    "\n",
    "api_articles = NewsFetcher().extract(\n",
    "    page=1,\n",
    "    start_date=start_dt.strftime(date_format),\n",
    "    end_date=end_dt.strftime(date_format)\n",
    ")"
   ]
  },
  {
   "cell_type": "code",
   "execution_count": null,
   "metadata": {},
   "outputs": [],
   "source": [
    "ArticleDocument.dump_json(api_articles)"
   ]
  },
  {
   "cell_type": "code",
   "execution_count": null,
   "metadata": {},
   "outputs": [
    {
     "data": {
      "text/plain": [
       "count                    100\n",
       "mean     2024-05-05 00:14:24\n",
       "min      2024-05-01 00:00:00\n",
       "25%      2024-05-03 00:00:00\n",
       "50%      2024-05-06 00:00:00\n",
       "75%      2024-05-07 00:00:00\n",
       "max      2024-05-08 00:00:00\n",
       "Name: parsed_dt, dtype: object"
      ]
     },
     "execution_count": 9,
     "metadata": {},
     "output_type": "execute_result"
    }
   ],
   "source": [
    "df[\"parsed_dt\"].describe()"
   ]
  },
  {
   "cell_type": "code",
   "execution_count": null,
   "metadata": {},
   "outputs": [],
   "source": [
    "items = [{\"id\": 1, \"color\": \"red\"}, {\"id\": 1, \"color\": \"black\"}]\n",
    "\n",
    "a, b= zip(*items)"
   ]
  },
  {
   "cell_type": "code",
   "execution_count": null,
   "metadata": {},
   "outputs": [
    {
     "data": {
      "text/plain": [
       "('color', 'color')"
      ]
     },
     "execution_count": 6,
     "metadata": {},
     "output_type": "execute_result"
    }
   ],
   "source": [
    "b"
   ]
  }
 ],
 "metadata": {
  "kernelspec": {
   "display_name": "text-fetch-etl-nMcXCGuE-py3.10",
   "language": "python",
   "name": "python3"
  },
  "language_info": {
   "codemirror_mode": {
    "name": "ipython",
    "version": 3
   },
   "file_extension": ".py",
   "mimetype": "text/x-python",
   "name": "python",
   "nbconvert_exporter": "python",
   "pygments_lexer": "ipython3",
   "version": "3.10.4"
  }
 },
 "nbformat": 4,
 "nbformat_minor": 2
}
