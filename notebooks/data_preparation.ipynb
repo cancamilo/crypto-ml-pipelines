{
 "cells": [
  {
   "cell_type": "markdown",
   "metadata": {},
   "source": [
    "# Data preparation"
   ]
  },
  {
   "cell_type": "code",
   "execution_count": 21,
   "metadata": {},
   "outputs": [
    {
     "name": "stdout",
     "output_type": "stream",
     "text": [
      "The autoreload extension is already loaded. To reload it, use:\n",
      "  %reload_ext autoreload\n"
     ]
    }
   ],
   "source": [
    "%load_ext autoreload\n",
    "%autoreload 2\n",
    "\n",
    "import os\n",
    "import sys\n",
    "\n",
    "# Do this to enable importing modules\n",
    "src_path = os.path.join(os.path.abspath(\"\"), \"..\")\n",
    "sys.path.insert(0, src_path)"
   ]
  },
  {
   "cell_type": "code",
   "execution_count": 26,
   "metadata": {},
   "outputs": [],
   "source": [
    "from feature_pipeline.db.qdrant import connection as client\n",
    "    \n",
    "def fetch_all_cleaned_content(collection_name: str) -> list:\n",
    "        all_cleaned_contents = []\n",
    "\n",
    "        scroll_response = client.scroll(collection_name=collection_name, limit=10000)\n",
    "        points = scroll_response[0]\n",
    "\n",
    "        for point in points:\n",
    "            # cleaned_content = point.payload[\"cleaned_content\"]\n",
    "            cleaned_content = point.payload\n",
    "            if cleaned_content:\n",
    "                all_cleaned_contents.append(cleaned_content)\n",
    "\n",
    "        return all_cleaned_contents"
   ]
  },
  {
   "cell_type": "code",
   "execution_count": 33,
   "metadata": {},
   "outputs": [
    {
     "data": {
      "text/plain": [
       "True"
      ]
     },
     "execution_count": 33,
     "metadata": {},
     "output_type": "execute_result"
    }
   ],
   "source": [
    "# from qdrant_client import QdrantClient\n",
    "# from feature_pipeline.settings import settings\n",
    "# _client = QdrantClient(\n",
    "#     host=settings.QDRANT_DATABASE_HOST,\n",
    "#     port=settings.QDRANT_DATABASE_PORT,\n",
    "# )\n",
    "# _client.delete_collection(collection_name=\"cleaned_articles\")"
   ]
  },
  {
   "cell_type": "code",
   "execution_count": 34,
   "metadata": {},
   "outputs": [],
   "source": [
    "articles = fetch_all_cleaned_content(\"cleaned_articles\")"
   ]
  },
  {
   "cell_type": "code",
   "execution_count": 35,
   "metadata": {},
   "outputs": [
    {
     "data": {
      "text/plain": [
       "19"
      ]
     },
     "execution_count": 35,
     "metadata": {},
     "output_type": "execute_result"
    }
   ],
   "source": [
    "len(articles)"
   ]
  },
  {
   "cell_type": "code",
   "execution_count": 36,
   "metadata": {},
   "outputs": [
    {
     "data": {
      "text/plain": [
       "{'cleaned_content': 'Hong Kongs Office of the Privacy Commissioner for Personal Data (PCPD) has concluded its inquiry into the Worldcoin project, determining that its operations in Hong Kong violated its Personal Data (Privacy) Ordinance (PDPO). In a May 22 notice, Privacy Commissioner Ada Chung Lai-lingissued an enforcement notice to Worldcoin, ordering the immediate halt of all project operations in Hong Kong that involve scanning and collecting iris and facial images of the public using iris scanning devices. The PCPD started its investigationagainst the Worldcoin project in January 2024 to determine whether the identity verification methods posed serious risks to citizens personal data privacy and violated the requirements of the PDPO. The PCPD conducted 10 covert visits at six premises involved in operating the Worldcoin project from December 2023 to January 2024. According to the PCPD, collecting face images was unnecessary for verifying the humanness of participants, as the iris scanning device operators were already capable of performing this verification in person at the operating locations, making the scanning or collection of face images an unnecessary step. The PCPD also pointed out that Worldcoin failed to provide sufficient information, preventing informed decisions and genuine consent.  The investigation revealed that Worldcoins privacy notice was unavailable in Chinese, which meant non-English speaking participants could not understand the projects policies, practices, terms and conditions. The PCPD said: Under these circumstances, the PCPD deemed the collection of face and iris images unfair and unlawful, violating its data protection principles. Related: Worldcoin beefs up security by open-sourcing biometric data system The PCPD ruled that Worldcoins retention of sensitive biometric data for up to 10 years solely for AI model training, including face and iris images, was unjustified.  Worldcoin confirmed that 8,302 individuals had their faces and irises scanned for verification during its operation in Hong Kong. The project was announced in 2021, with more than two million people signing up before the projects official launch in July 2023. Worldcoin has attracted the attention of regulators in many countriesover privacy concerns, leading to thesuspension of services in Kenya and the pausing of iris scans in India. Magazine: Moral responsibility: Can blockchain really improve trust in AI? Add reaction',\n",
       " 'published_at': '2024-05-22',\n",
       " 'source': 'coin_telepraph',\n",
       " 'summary': ' The PCPD ruled that Worldcoin’s retention of sensitive biometric data for up to 10 years solely for AI model training, including face and iris images, was unjustified. ',\n",
       " 'title': ' Worldcoin ordered to stop operations in Hong Kong ',\n",
       " 'type': 'article'}"
      ]
     },
     "execution_count": 36,
     "metadata": {},
     "output_type": "execute_result"
    }
   ],
   "source": [
    "articles[0]"
   ]
  }
 ],
 "metadata": {
  "kernelspec": {
   "display_name": "rag-system-_6t_t_f9-py3.10",
   "language": "python",
   "name": "python3"
  },
  "language_info": {
   "codemirror_mode": {
    "name": "ipython",
    "version": 3
   },
   "file_extension": ".py",
   "mimetype": "text/x-python",
   "name": "python",
   "nbconvert_exporter": "python",
   "pygments_lexer": "ipython3",
   "version": "3.10.4"
  }
 },
 "nbformat": 4,
 "nbformat_minor": 2
}
